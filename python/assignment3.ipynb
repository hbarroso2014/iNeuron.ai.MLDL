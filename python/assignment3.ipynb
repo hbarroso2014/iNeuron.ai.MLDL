{
 "cells": [
  {
   "cell_type": "code",
   "execution_count": 1,
   "id": "f4056f92",
   "metadata": {},
   "outputs": [],
   "source": [
    "# 1.1 Write a Python Program to implement your own myreduce() function which works exactly\n",
    "# like Python's built-in function reduce()"
   ]
  },
  {
   "cell_type": "code",
   "execution_count": 2,
   "id": "3af57279",
   "metadata": {},
   "outputs": [],
   "source": [
    "# my reduce function\n",
    "def myreduce(function, iterable, initializer=None):\n",
    "    it = iter(iterable)\n",
    "    if initializer is None:\n",
    "        value = next(it)\n",
    "    else:\n",
    "        value = initializer\n",
    "    for element in it:\n",
    "        value = function(value, element)\n",
    "    return value"
   ]
  },
  {
   "cell_type": "code",
   "execution_count": 3,
   "id": "50b85336",
   "metadata": {},
   "outputs": [],
   "source": [
    "# initialize arguments of myreduce for testing purposal\n",
    "INITIALIZER = 3\n",
    "NUMBERS = range(1,5)\n",
    "\n",
    "# callable function replacing pow\n",
    "def mypow(a,b):\n",
    "    result = pow(a,b)\n",
    "    print(f\"{a} ^ {b} = {result}\")\n",
    "    return result"
   ]
  },
  {
   "cell_type": "code",
   "execution_count": 4,
   "id": "d66e72ff",
   "metadata": {},
   "outputs": [
    {
     "name": "stdout",
     "output_type": "stream",
     "text": [
      "3 ^ 1 = 3\n",
      "3 ^ 2 = 9\n",
      "9 ^ 3 = 729\n",
      "729 ^ 4 = 282429536481\n"
     ]
    },
    {
     "data": {
      "text/plain": [
       "282429536481"
      ]
     },
     "execution_count": 4,
     "metadata": {},
     "output_type": "execute_result"
    }
   ],
   "source": [
    "# test myreduce with testing arguments\n",
    "myreduce(mypow, NUMBERS, INITIALIZER)"
   ]
  },
  {
   "cell_type": "code",
   "execution_count": 5,
   "id": "53d42b95",
   "metadata": {},
   "outputs": [],
   "source": [
    "# 1.2 Write a Python program to implement your own myfilter() function which works exactly\n",
    "# like Python's built-in function filter()"
   ]
  },
  {
   "cell_type": "code",
   "execution_count": 6,
   "id": "88c52e08",
   "metadata": {},
   "outputs": [],
   "source": [
    "# myfunction definition\n",
    "def myfilter(function, iterable):\n",
    "    it = iter(iterable)\n",
    "    func = bool if function is None else function\n",
    "    return [i for i in it if func(i)]"
   ]
  },
  {
   "cell_type": "code",
   "execution_count": 7,
   "id": "a2c6d95e",
   "metadata": {},
   "outputs": [],
   "source": [
    "# initialize iterable to test for even numbers\n",
    "numbers = [-12, -11, -6, -4, -2, 3, 5, 7, 10,13]"
   ]
  },
  {
   "cell_type": "code",
   "execution_count": 8,
   "id": "856b1b4c",
   "metadata": {},
   "outputs": [
    {
     "name": "stdout",
     "output_type": "stream",
     "text": [
      "[-12, -6, -4, -2, 10]\n"
     ]
    }
   ],
   "source": [
    "print(myfilter(lambda x: x % 2 == 0, numbers))"
   ]
  },
  {
   "cell_type": "code",
   "execution_count": 9,
   "id": "7f9e4316",
   "metadata": {},
   "outputs": [],
   "source": [
    "# initialize iterable to test for True boolean values\n",
    "items = [-12, None, True, -2, False, 5, \"\", 0, ['x', 1], [], {}, {'a':1}]"
   ]
  },
  {
   "cell_type": "code",
   "execution_count": 10,
   "id": "bf20ae62",
   "metadata": {},
   "outputs": [
    {
     "name": "stdout",
     "output_type": "stream",
     "text": [
      "[-12, True, -2, 5, ['x', 1], {'a': 1}]\n"
     ]
    }
   ],
   "source": [
    "print(myfilter(None, items))"
   ]
  },
  {
   "cell_type": "code",
   "execution_count": 11,
   "id": "e99e82f0",
   "metadata": {},
   "outputs": [],
   "source": [
    "# 2. Implement List comprehensions to produce the following lists.\n",
    "# Write List comprehensions to produce the following Lists"
   ]
  },
  {
   "cell_type": "code",
   "execution_count": 12,
   "id": "0c0a595b",
   "metadata": {},
   "outputs": [
    {
     "name": "stdout",
     "output_type": "stream",
     "text": [
      "['x', 'xx', 'xxx', 'xxxx', 'y', 'yy', 'yyy', 'yyyy', 'z', 'zz', 'zzz', 'zzzz']\n"
     ]
    }
   ],
   "source": [
    "# 'x', 'xx', 'xxx', 'xxxx', 'y', 'yy', 'yyy', 'yyyy', 'z', 'zz', 'zzz', 'zzzz'\n",
    "print([ c*n for c in ['x','y','z'] for n in range(1,5) ])"
   ]
  },
  {
   "cell_type": "code",
   "execution_count": 13,
   "id": "97cb16f4",
   "metadata": {},
   "outputs": [
    {
     "name": "stdout",
     "output_type": "stream",
     "text": [
      "['x', 'y', 'z', 'xx', 'yy', 'zz', 'xxx', 'yyy', 'zzz', 'xxxx', 'yyyy', 'zzzz']\n"
     ]
    }
   ],
   "source": [
    "# 'x', 'y', 'z', 'xx', 'yy', 'zz', 'xxx', 'yyy', 'zzz', 'xxxx', 'yyyy', 'zzzz'\n",
    "print([ c*n for n in range(1,5) for c in ['x','y','z']  ])"
   ]
  },
  {
   "cell_type": "code",
   "execution_count": 14,
   "id": "f7c8bbc6",
   "metadata": {},
   "outputs": [
    {
     "name": "stdout",
     "output_type": "stream",
     "text": [
      "[[2], [3], [4], [3], [4], [5], [4], [5], [6]] [[2, 3, 4, 5], [3, 4, 5, 6], [4, 5, 6, 7], [5, 6, 7, 8]]\n"
     ]
    }
   ],
   "source": [
    "# [[2], [3], [4], [3], [4], [5], [4], [5], [6]] [[2, 3, 4, 5], [3, 4, 5, 6], [4, 5, 6, 7], [5, 6, 7, 8]]\n",
    "print([[n+i] for n in range(2,5) for i in range(3)], [[ n for n in range(s,s+4) ] for s in range(2,6)])"
   ]
  },
  {
   "cell_type": "code",
   "execution_count": 15,
   "id": "81bee763",
   "metadata": {},
   "outputs": [
    {
     "name": "stdout",
     "output_type": "stream",
     "text": [
      "[(1, 1), (2, 1), (3, 1), (1, 2), (2, 2), (3, 2), (1, 3), (2, 3), (3, 3)]\n"
     ]
    }
   ],
   "source": [
    "# [(1, 1), (2, 1), (3, 1), (1, 2), (2, 2), (3, 2), (1, 3), (2, 3), (3, 3)]\n",
    "print([(f,s) for s in range(1,4) for f in range(1,4)])"
   ]
  }
 ],
 "metadata": {
  "kernelspec": {
   "display_name": "Python 3",
   "language": "python",
   "name": "python3"
  },
  "language_info": {
   "codemirror_mode": {
    "name": "ipython",
    "version": 3
   },
   "file_extension": ".py",
   "mimetype": "text/x-python",
   "name": "python",
   "nbconvert_exporter": "python",
   "pygments_lexer": "ipython3",
   "version": "3.8.8"
  }
 },
 "nbformat": 4,
 "nbformat_minor": 5
}
