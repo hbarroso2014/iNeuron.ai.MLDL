{
 "cells": [
  {
   "cell_type": "code",
   "execution_count": 1,
   "id": "df63b0ff",
   "metadata": {},
   "outputs": [],
   "source": [
    "# 1. Write a function to compute 5/0 and use try/except to catch the exceptions."
   ]
  },
  {
   "cell_type": "code",
   "execution_count": 2,
   "id": "e690e5c8",
   "metadata": {},
   "outputs": [],
   "source": [
    "def my_division(dividend, divider):\n",
    "    try:\n",
    "        return dividend / divider\n",
    "    except ZeroDivisionError:\n",
    "        print(f'Division by zero not allowed.')\n",
    "    except Exception as e:\n",
    "        print(f'Division not executed. Exception issued \"{str(e).upper()}\".')"
   ]
  },
  {
   "cell_type": "code",
   "execution_count": 3,
   "id": "a2ac13cb",
   "metadata": {},
   "outputs": [
    {
     "name": "stdout",
     "output_type": "stream",
     "text": [
      "Division not executed. Exception issued \"UNSUPPORTED OPERAND TYPE(S) FOR /: 'INT' AND 'STR'\".\n"
     ]
    }
   ],
   "source": [
    "my_division(5,'a')"
   ]
  },
  {
   "cell_type": "code",
   "execution_count": 4,
   "id": "b08d2059",
   "metadata": {},
   "outputs": [
    {
     "name": "stdout",
     "output_type": "stream",
     "text": [
      "Division by zero not allowed.\n"
     ]
    }
   ],
   "source": [
    "my_division(5,0)"
   ]
  },
  {
   "cell_type": "code",
   "execution_count": 5,
   "id": "81ed9bc1",
   "metadata": {},
   "outputs": [],
   "source": [
    "# 2. Implement a Python program to generate all sentences where subject is in\n",
    "# [\"Americans\", \"Indians\"] and verb is in [\"Play\", \"watch\"] and the object is in\n",
    "# [\"Baseball\",\"cricket\"].\n",
    "\n",
    "# Hint: Subject,Verb and Object should be declared in the program as shown below.\n",
    "\n",
    "# subjects=[\"Americans \",\"Indians\"]\n",
    "# verbs=[\"play\",\"watch\"]\n",
    "# objects=[\"Baseball\",\"Cricket\"]"
   ]
  },
  {
   "cell_type": "code",
   "execution_count": 6,
   "id": "3ddd4c81",
   "metadata": {},
   "outputs": [],
   "source": [
    "# init lists\n",
    "subjects=[\"Americans \",\"Indians\"]\n",
    "verbs=[\"play\",\"watch\"]\n",
    "objects=[\"Baseball\",\"Cricket\"]"
   ]
  },
  {
   "cell_type": "code",
   "execution_count": 7,
   "id": "9f3fe77b",
   "metadata": {},
   "outputs": [
    {
     "name": "stdout",
     "output_type": "stream",
     "text": [
      "Americans play Baseball\n",
      "Americans play Cricket\n",
      "Americans watch Baseball\n",
      "Americans watch Cricket\n",
      "Indians play Baseball\n",
      "Indians play Cricket\n",
      "Indians watch Baseball\n",
      "Indians watch Cricket\n"
     ]
    }
   ],
   "source": [
    "for s in subjects:\n",
    "    for v in verbs:\n",
    "        for o in objects:\n",
    "            print(' '.join([s.strip(),v.strip(),o.strip()]))"
   ]
  }
 ],
 "metadata": {
  "kernelspec": {
   "display_name": "Python 3",
   "language": "python",
   "name": "python3"
  },
  "language_info": {
   "codemirror_mode": {
    "name": "ipython",
    "version": 3
   },
   "file_extension": ".py",
   "mimetype": "text/x-python",
   "name": "python",
   "nbconvert_exporter": "python",
   "pygments_lexer": "ipython3",
   "version": "3.8.8"
  }
 },
 "nbformat": 4,
 "nbformat_minor": 5
}
