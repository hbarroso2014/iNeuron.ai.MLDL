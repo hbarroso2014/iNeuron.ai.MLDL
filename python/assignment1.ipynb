{
 "cells": [
  {
   "cell_type": "code",
   "execution_count": 1,
   "id": "4d8da08e",
   "metadata": {},
   "outputs": [],
   "source": [
    "# 1. Write a program which will find all such numbers which are divisible by 7 but are not a multiple of 5, \n",
    "# between 2000 and 3200 (both included). The numbers obtained should be printed in a comma-separated sequence \n",
    "# on a single line."
   ]
  },
  {
   "cell_type": "code",
   "execution_count": 2,
   "id": "3770b9e1",
   "metadata": {},
   "outputs": [],
   "source": [
    "START = 2000"
   ]
  },
  {
   "cell_type": "code",
   "execution_count": 3,
   "id": "faca7523",
   "metadata": {},
   "outputs": [],
   "source": [
    "END = 3200"
   ]
  },
  {
   "cell_type": "code",
   "execution_count": 4,
   "id": "4c821328",
   "metadata": {},
   "outputs": [
    {
     "name": "stdout",
     "output_type": "stream",
     "text": [
      "2002,2009,2016,2023,2037,2044,2051,2058,2072,2079,2086,2093,2107,2114,2121,2128,2142,2149,2156,2163,2177,2184,2191,2198,2212,2219,2226,2233,2247,2254,2261,2268,2282,2289,2296,2303,2317,2324,2331,2338,2352,2359,2366,2373,2387,2394,2401,2408,2422,2429,2436,2443,2457,2464,2471,2478,2492,2499,2506,2513,2527,2534,2541,2548,2562,2569,2576,2583,2597,2604,2611,2618,2632,2639,2646,2653,2667,2674,2681,2688,2702,2709,2716,2723,2737,2744,2751,2758,2772,2779,2786,2793,2807,2814,2821,2828,2842,2849,2856,2863,2877,2884,2891,2898,2912,2919,2926,2933,2947,2954,2961,2968,2982,2989,2996,3003,3017,3024,3031,3038,3052,3059,3066,3073,3087,3094,3101,3108,3122,3129,3136,3143,3157,3164,3171,3178,3192,3199\n"
     ]
    }
   ],
   "source": [
    "print(\",\".join([ str(n) for n in range(START,END+1) if (n % 7 == 0) and (n % 5 != 0) ]))"
   ]
  },
  {
   "cell_type": "code",
   "execution_count": 5,
   "id": "c579c28b",
   "metadata": {},
   "outputs": [],
   "source": [
    "# 2. Write a Python program to accept the users first and last name and then getting them printed in the \n",
    "# reverse order with a space between first name and last name."
   ]
  },
  {
   "cell_type": "code",
   "execution_count": 6,
   "id": "b53fc20b",
   "metadata": {},
   "outputs": [],
   "source": [
    "NAME = \"Helio Mauricio Barroso\""
   ]
  },
  {
   "cell_type": "code",
   "execution_count": 7,
   "id": "0b7b868c",
   "metadata": {},
   "outputs": [
    {
     "name": "stdout",
     "output_type": "stream",
     "text": [
      "['Barroso', 'Helio']\n"
     ]
    }
   ],
   "source": [
    "print([NAME.split(' ')[index] for index in [-1,0]])"
   ]
  },
  {
   "cell_type": "code",
   "execution_count": 8,
   "id": "d0a8c9f4",
   "metadata": {},
   "outputs": [],
   "source": [
    "# 3. Write a Python program to find the volume of a sphere with diameter 12 cm. Formula: V=4/3 * π * r 3"
   ]
  },
  {
   "cell_type": "code",
   "execution_count": 9,
   "id": "91786142",
   "metadata": {},
   "outputs": [],
   "source": [
    "import math"
   ]
  },
  {
   "cell_type": "code",
   "execution_count": 10,
   "id": "1f21fd6e",
   "metadata": {},
   "outputs": [],
   "source": [
    "SPHERE_DIAMETER = 12"
   ]
  },
  {
   "cell_type": "code",
   "execution_count": 11,
   "id": "307defdf",
   "metadata": {},
   "outputs": [
    {
     "name": "stdout",
     "output_type": "stream",
     "text": [
      "904.7786842338604\n"
     ]
    }
   ],
   "source": [
    "print(4 * math.pi * pow(SPHERE_DIAMETER/2,3) / 3)"
   ]
  },
  {
   "cell_type": "code",
   "execution_count": null,
   "id": "c8181326",
   "metadata": {},
   "outputs": [],
   "source": []
  }
 ],
 "metadata": {
  "kernelspec": {
   "display_name": "Python 3",
   "language": "python",
   "name": "python3"
  },
  "language_info": {
   "codemirror_mode": {
    "name": "ipython",
    "version": 3
   },
   "file_extension": ".py",
   "mimetype": "text/x-python",
   "name": "python",
   "nbconvert_exporter": "python",
   "pygments_lexer": "ipython3",
   "version": "3.8.8"
  }
 },
 "nbformat": 4,
 "nbformat_minor": 5
}
