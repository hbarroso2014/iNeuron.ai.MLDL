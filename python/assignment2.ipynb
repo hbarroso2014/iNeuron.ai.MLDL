{
 "cells": [
  {
   "cell_type": "code",
   "execution_count": 1,
   "id": "ea65284a",
   "metadata": {},
   "outputs": [],
   "source": [
    "# 1. Create the below pattern using nested for loop in Python.\n",
    "\n",
    "# *\n",
    "# **\n",
    "# ***\n",
    "# ****\n",
    "# *****\n",
    "# ****\n",
    "# ***\n",
    "# **\n",
    "# *"
   ]
  },
  {
   "cell_type": "code",
   "execution_count": 2,
   "id": "884604c5",
   "metadata": {},
   "outputs": [],
   "source": [
    "MAX_STARS = 5"
   ]
  },
  {
   "cell_type": "code",
   "execution_count": 3,
   "id": "7ba14ed1",
   "metadata": {},
   "outputs": [
    {
     "name": "stdout",
     "output_type": "stream",
     "text": [
      "*\n",
      "**\n",
      "***\n",
      "****\n",
      "*****\n",
      "****\n",
      "***\n",
      "**\n",
      "*\n"
     ]
    }
   ],
   "source": [
    "for level in range(1-MAX_STARS,MAX_STARS,1):\n",
    "    n_stars = MAX_STARS - abs(level)\n",
    "    str_line = \"\"\n",
    "    for i in range(n_stars):\n",
    "        str_line += '*' \n",
    "    print(str_line)"
   ]
  },
  {
   "cell_type": "code",
   "execution_count": 4,
   "id": "1610a6b7",
   "metadata": {},
   "outputs": [],
   "source": [
    "# 2. Write a Python program to reverse a word after accepting the input from the user.\n",
    "\n",
    "# Sample Output:\n",
    "    \n",
    "#     Input word: ineuron\n",
    "#     Output: norueni"
   ]
  },
  {
   "cell_type": "code",
   "execution_count": 5,
   "id": "8bdc2209",
   "metadata": {},
   "outputs": [
    {
     "name": "stdout",
     "output_type": "stream",
     "text": [
      "Overwriting reverse_word.py\n"
     ]
    }
   ],
   "source": [
    "%%file reverse_word.py \n",
    "from sys import argv\n",
    "if len(argv) >= 2:\n",
    "    word = argv[1]\n",
    "    print(\"Input word: \" + word)\n",
    "    if len(argv) > 2: print(\"WARNING: arguments after first word ignored.\")\n",
    "    print(\"Reverse word: \" + word[::-1])\n",
    "else:\n",
    "    print(\"No word input detected.\")"
   ]
  },
  {
   "cell_type": "code",
   "execution_count": 6,
   "id": "075b8a5e",
   "metadata": {},
   "outputs": [
    {
     "data": {
      "text/plain": [
       "['Input word: Paracelsus', 'Reverse word: suslecaraP']"
      ]
     },
     "execution_count": 6,
     "metadata": {},
     "output_type": "execute_result"
    }
   ],
   "source": [
    "%%!\n",
    "python reverse_word.py Paracelsus"
   ]
  },
  {
   "cell_type": "code",
   "execution_count": null,
   "id": "55c3450c",
   "metadata": {},
   "outputs": [],
   "source": []
  }
 ],
 "metadata": {
  "kernelspec": {
   "display_name": "Python 3",
   "language": "python",
   "name": "python3"
  },
  "language_info": {
   "codemirror_mode": {
    "name": "ipython",
    "version": 3
   },
   "file_extension": ".py",
   "mimetype": "text/x-python",
   "name": "python",
   "nbconvert_exporter": "python",
   "pygments_lexer": "ipython3",
   "version": "3.8.8"
  }
 },
 "nbformat": 4,
 "nbformat_minor": 5
}
