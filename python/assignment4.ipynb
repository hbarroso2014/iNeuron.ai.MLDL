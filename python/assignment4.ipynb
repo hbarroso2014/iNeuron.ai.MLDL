{
 "cells": [
  {
   "cell_type": "code",
   "execution_count": 1,
   "id": "58cfd956",
   "metadata": {},
   "outputs": [],
   "source": [
    "# 1.1 Write a Python Program(with class concepts) to find the area of the triangle using the below\n",
    "# formula.\n",
    "# area = (s*(s-a)*(s-b)*(s-c)) ** 0.5\n",
    "# Function to take the length of the sides of triangle from user should be defined in the parent\n",
    "# class and function to calculate the area should be defined in subclass."
   ]
  },
  {
   "cell_type": "code",
   "execution_count": 2,
   "id": "fb11413a",
   "metadata": {},
   "outputs": [],
   "source": [
    "import math"
   ]
  },
  {
   "cell_type": "code",
   "execution_count": 3,
   "id": "527ab6c0",
   "metadata": {},
   "outputs": [],
   "source": [
    "class Edges:\n",
    "    def __init__(self, edges):\n",
    "        self.edges = edges"
   ]
  },
  {
   "cell_type": "code",
   "execution_count": 4,
   "id": "4909c2b6",
   "metadata": {},
   "outputs": [],
   "source": [
    "class Triangle(Edges):\n",
    "    def __init__(self, edges):\n",
    "        super().__init__(edges)\n",
    "        \n",
    "    def area(self):\n",
    "        s = sum(self.edges) // 2.0\n",
    "        return math.sqrt(math.prod([s - x for x in [0.0] + self.edges]))"
   ]
  },
  {
   "cell_type": "code",
   "execution_count": 5,
   "id": "2a459e50",
   "metadata": {},
   "outputs": [
    {
     "name": "stdout",
     "output_type": "stream",
     "text": [
      "61.48170459575759\n"
     ]
    }
   ],
   "source": [
    "triangle = Triangle([11.0,12.0,13.0])\n",
    "print(triangle.area())"
   ]
  },
  {
   "cell_type": "code",
   "execution_count": 6,
   "id": "92db276e",
   "metadata": {},
   "outputs": [],
   "source": [
    "# 1.2 Write a function filter_long_words() that takes a list of words and an integer n and returns\n",
    "# the list of words that are longer than n."
   ]
  },
  {
   "cell_type": "code",
   "execution_count": 7,
   "id": "3ac64b93",
   "metadata": {},
   "outputs": [],
   "source": [
    "import math"
   ]
  },
  {
   "cell_type": "code",
   "execution_count": 8,
   "id": "d46445eb",
   "metadata": {},
   "outputs": [],
   "source": [
    "def filter_long_words(word_list, n):\n",
    "    return list(filter(lambda w: (len(w) > n), word_list))"
   ]
  },
  {
   "cell_type": "code",
   "execution_count": 9,
   "id": "5db73f69",
   "metadata": {},
   "outputs": [
    {
     "name": "stdout",
     "output_type": "stream",
     "text": [
      "['Alabama', 'Winsconsin', 'Florida', 'Atlanta', 'California']\n"
     ]
    }
   ],
   "source": [
    "print(filter_long_words(['Alabama','Winsconsin','Texas', 'Florida', 'Atlanta', 'Alaska', 'California'],6))"
   ]
  },
  {
   "cell_type": "code",
   "execution_count": 10,
   "id": "b0f6ffd5",
   "metadata": {},
   "outputs": [],
   "source": [
    "# 2.1 Write a Python program using function concept that maps list of words into a list of integers\n",
    "# representing the lengths of the corresponding words.\n",
    "# Hint: If a list [ ab,cde,erty] is passed on to the python function output should come as [2,3,4]\n",
    "# Here 2,3 and 4 are the lengths of the words in the list."
   ]
  },
  {
   "cell_type": "code",
   "execution_count": 11,
   "id": "e27d1d4d",
   "metadata": {},
   "outputs": [],
   "source": [
    "def words_lenght(word_list):\n",
    "    return list(map(lambda w:len(w) , word_list))"
   ]
  },
  {
   "cell_type": "code",
   "execution_count": 12,
   "id": "0eeed79b",
   "metadata": {},
   "outputs": [
    {
     "name": "stdout",
     "output_type": "stream",
     "text": [
      "[7, 10, 5, 7, 7, 6, 10]\n"
     ]
    }
   ],
   "source": [
    "print(words_lenght(['Alabama','Winsconsin','Texas', 'Florida', 'Atlanta', 'Alaska', 'California']))"
   ]
  },
  {
   "cell_type": "code",
   "execution_count": 13,
   "id": "5f47b412",
   "metadata": {},
   "outputs": [],
   "source": [
    "# 2.2 Write a Python function which takes a character (i.e. a string of length 1) and returns True if\n",
    "# it is a vowel, False otherwise."
   ]
  },
  {
   "cell_type": "code",
   "execution_count": 14,
   "id": "7de29569",
   "metadata": {},
   "outputs": [],
   "source": [
    "def isvowel(char):\n",
    "    return char.lower() in ['a', 'e', 'i', 'o', 'u']"
   ]
  },
  {
   "cell_type": "code",
   "execution_count": 15,
   "id": "b1c6263e",
   "metadata": {},
   "outputs": [
    {
     "name": "stdout",
     "output_type": "stream",
     "text": [
      "True\n"
     ]
    }
   ],
   "source": [
    "print(isvowel('A'))"
   ]
  },
  {
   "cell_type": "code",
   "execution_count": 16,
   "id": "13d779ea",
   "metadata": {},
   "outputs": [
    {
     "name": "stdout",
     "output_type": "stream",
     "text": [
      "False\n"
     ]
    }
   ],
   "source": [
    "print(isvowel('F'))"
   ]
  },
  {
   "cell_type": "code",
   "execution_count": 17,
   "id": "2c64e269",
   "metadata": {},
   "outputs": [
    {
     "name": "stdout",
     "output_type": "stream",
     "text": [
      "True\n"
     ]
    }
   ],
   "source": [
    "print(isvowel('o'))"
   ]
  },
  {
   "cell_type": "code",
   "execution_count": 18,
   "id": "8f1ed557",
   "metadata": {},
   "outputs": [
    {
     "name": "stdout",
     "output_type": "stream",
     "text": [
      "False\n"
     ]
    }
   ],
   "source": [
    "print(isvowel('h'))"
   ]
  }
 ],
 "metadata": {
  "kernelspec": {
   "display_name": "Python 3",
   "language": "python",
   "name": "python3"
  },
  "language_info": {
   "codemirror_mode": {
    "name": "ipython",
    "version": 3
   },
   "file_extension": ".py",
   "mimetype": "text/x-python",
   "name": "python",
   "nbconvert_exporter": "python",
   "pygments_lexer": "ipython3",
   "version": "3.8.8"
  }
 },
 "nbformat": 4,
 "nbformat_minor": 5
}
